{
  "nbformat": 4,
  "nbformat_minor": 0,
  "metadata": {
    "colab": {
      "name": "Stepik_visualiation.ipynb",
      "provenance": [],
      "authorship_tag": "ABX9TyOjMw/+18mr9iTjy7966e8w",
      "include_colab_link": true
    },
    "kernelspec": {
      "name": "python3",
      "display_name": "Python 3"
    },
    "language_info": {
      "name": "python"
    }
  },
  "cells": [
    {
      "cell_type": "markdown",
      "metadata": {
        "id": "view-in-github",
        "colab_type": "text"
      },
      "source": [
        "<a href=\"https://colab.research.google.com/github/nedokormysh/Stepik_Karpov_ML/blob/main/Stepik_visualiation.ipynb\" target=\"_parent\"><img src=\"https://colab.research.google.com/assets/colab-badge.svg\" alt=\"Open In Colab\"/></a>"
      ]
    },
    {
      "cell_type": "markdown",
      "source": [
        "matplotlib - основная библиотека для визуализации\n",
        "https://matplotlib.org/\n",
        "\n",
        "seaborn - надстройка над matplotlib с более простым синтаксисом и лучшим качеством графиков\n",
        "https://seaborn.pydata.org/\n",
        "\n",
        "pandas\n",
        "https://pandas.pydata.org/pandas-docs/stable/reference/api/pandas.DataFrame.plot.html"
      ],
      "metadata": {
        "id": "PpV0YgKomNgp"
      }
    },
    {
      "cell_type": "code",
      "execution_count": null,
      "metadata": {
        "id": "kFAcW9LaalHa"
      },
      "outputs": [],
      "source": [
        "import pandas as pd\n",
        "import numpy as np\n",
        "\n",
        "%matplotlib inline # получать результаты визуализаций в юпитер-ноутбуке\n",
        "from matplotlib import pyplot as plt\n",
        "import seaborn as sns"
      ]
    },
    {
      "cell_type": "code",
      "source": [
        "students_performance = pd.read_csv('https://raw.githubusercontent.com/nedokormysh/Stepik_Karpov_ML/main/StudentsPerformance.csv')"
      ],
      "metadata": {
        "id": "LuH4RqAAmfN6"
      },
      "execution_count": null,
      "outputs": []
    }
  ]
}